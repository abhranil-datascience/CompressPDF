{
  "nbformat": 4,
  "nbformat_minor": 0,
  "metadata": {
    "colab": {
      "name": "PDFCompressionNoteBook.ipynb",
      "provenance": [],
      "collapsed_sections": [],
      "include_colab_link": true
    },
    "kernelspec": {
      "name": "python3",
      "display_name": "Python 3"
    }
  },
  "cells": [
    {
      "cell_type": "markdown",
      "metadata": {
        "id": "view-in-github",
        "colab_type": "text"
      },
      "source": [
        "<a href=\"https://colab.research.google.com/github/abhranil-datascience/CompressPDF/blob/master/PDFCompressionNoteBook.ipynb\" target=\"_parent\"><img src=\"https://colab.research.google.com/assets/colab-badge.svg\" alt=\"Open In Colab\"/></a>"
      ]
    },
    {
      "cell_type": "code",
      "metadata": {
        "id": "mjSUrjBeZ1mg",
        "colab_type": "code",
        "outputId": "d891df0a-5399-40c3-d395-eb6ec994e5f3",
        "colab": {
          "base_uri": "https://localhost:8080/",
          "height": 123
        }
      },
      "source": [
        "######################### Suppress Warnings #######################################\n",
        "import warnings\n",
        "warnings.filterwarnings('ignore')\n",
        "############################## Mount Drive ########################################\n",
        "from google.colab import drive\n",
        "drive.mount('/content/gdrive')\n",
        "############################## Change Directory ###################################\n",
        "import os\n",
        "os.chdir('/content/gdrive/My Drive/PdfImagePath')"
      ],
      "execution_count": 0,
      "outputs": [
        {
          "output_type": "stream",
          "text": [
            "Go to this URL in a browser: https://accounts.google.com/o/oauth2/auth?client_id=947318989803-6bn6qk8qdgf4n4g3pfee6491hc0brc4i.apps.googleusercontent.com&redirect_uri=urn%3Aietf%3Awg%3Aoauth%3A2.0%3Aoob&scope=email%20https%3A%2F%2Fwww.googleapis.com%2Fauth%2Fdocs.test%20https%3A%2F%2Fwww.googleapis.com%2Fauth%2Fdrive%20https%3A%2F%2Fwww.googleapis.com%2Fauth%2Fdrive.photos.readonly%20https%3A%2F%2Fwww.googleapis.com%2Fauth%2Fpeopleapi.readonly&response_type=code\n",
            "\n",
            "Enter your authorization code:\n",
            "··········\n",
            "Mounted at /content/gdrive\n"
          ],
          "name": "stdout"
        }
      ]
    },
    {
      "cell_type": "code",
      "metadata": {
        "id": "8avuHYJEb5d6",
        "colab_type": "code",
        "outputId": "a49f53e3-3a57-4616-d67e-7324b7c00d9f",
        "colab": {
          "base_uri": "https://localhost:8080/",
          "height": 1000
        }
      },
      "source": [
        "############################################## Install Required Library #################################################\n",
        "!pip install --upgrade pymupdf\n",
        "!pip install wand\n",
        "!apt-get install libmagickwand-dev"
      ],
      "execution_count": 0,
      "outputs": [
        {
          "output_type": "stream",
          "text": [
            "Collecting pymupdf\n",
            "\u001b[?25l  Downloading https://files.pythonhosted.org/packages/7f/6e/9de20cb4f49b9dda3f19367229a7af114c49f6f433b94633b37660b7ce3e/PyMuPDF-1.16.6-cp36-cp36m-manylinux1_x86_64.whl (5.3MB)\n",
            "\u001b[K     |████████████████████████████████| 5.3MB 4.4MB/s \n",
            "\u001b[?25hInstalling collected packages: pymupdf\n",
            "Successfully installed pymupdf-1.16.6\n",
            "Collecting wand\n",
            "\u001b[?25l  Downloading https://files.pythonhosted.org/packages/3e/43/0fbca3a034c92f3ac989948a0920d0b4f6c0c3c3317769fcaac8dde57e35/Wand-0.5.7-py2.py3-none-any.whl (128kB)\n",
            "\u001b[K     |████████████████████████████████| 133kB 4.8MB/s \n",
            "\u001b[?25hInstalling collected packages: wand\n",
            "Successfully installed wand-0.5.7\n",
            "Reading package lists... Done\n",
            "Building dependency tree       \n",
            "Reading state information... Done\n",
            "The following additional packages will be installed:\n",
            "  fonts-droid-fallback fonts-noto-mono ghostscript gir1.2-freedesktop\n",
            "  gir1.2-gdkpixbuf-2.0 gir1.2-rsvg-2.0 gsfonts imagemagick-6-common\n",
            "  libcairo-script-interpreter2 libcairo2-dev libcupsfilters1 libcupsimage2\n",
            "  libdjvulibre-dev libdjvulibre-text libdjvulibre21 libgdk-pixbuf2.0-dev\n",
            "  libgs9 libgs9-common libijs-0.35 libjbig2dec0 liblcms2-dev liblqr-1-0\n",
            "  liblqr-1-0-dev libmagickcore-6-arch-config libmagickcore-6-headers\n",
            "  libmagickcore-6.q16-3 libmagickcore-6.q16-3-extra libmagickcore-6.q16-dev\n",
            "  libmagickwand-6-headers libmagickwand-6.q16-3 libmagickwand-6.q16-dev\n",
            "  libpixman-1-dev librsvg2-dev libwmf-dev libwmf0.2-7 libxcb-shm0-dev\n",
            "  poppler-data\n",
            "Suggested packages:\n",
            "  fonts-noto ghostscript-x libcairo2-doc inkscape libjxr-tools librsvg2-doc\n",
            "  libwmf-doc libwmf0.2-7-gtk poppler-utils fonts-japanese-mincho\n",
            "  | fonts-ipafont-mincho fonts-japanese-gothic | fonts-ipafont-gothic\n",
            "  fonts-arphic-ukai fonts-arphic-uming fonts-nanum\n",
            "The following NEW packages will be installed:\n",
            "  fonts-droid-fallback fonts-noto-mono ghostscript gir1.2-freedesktop\n",
            "  gir1.2-gdkpixbuf-2.0 gir1.2-rsvg-2.0 gsfonts imagemagick-6-common\n",
            "  libcairo-script-interpreter2 libcairo2-dev libcupsfilters1 libcupsimage2\n",
            "  libdjvulibre-dev libdjvulibre-text libdjvulibre21 libgdk-pixbuf2.0-dev\n",
            "  libgs9 libgs9-common libijs-0.35 libjbig2dec0 liblcms2-dev liblqr-1-0\n",
            "  liblqr-1-0-dev libmagickcore-6-arch-config libmagickcore-6-headers\n",
            "  libmagickcore-6.q16-3 libmagickcore-6.q16-3-extra libmagickcore-6.q16-dev\n",
            "  libmagickwand-6-headers libmagickwand-6.q16-3 libmagickwand-6.q16-dev\n",
            "  libmagickwand-dev libpixman-1-dev librsvg2-dev libwmf-dev libwmf0.2-7\n",
            "  libxcb-shm0-dev poppler-data\n",
            "0 upgraded, 38 newly installed, 0 to remove and 28 not upgraded.\n",
            "Need to get 31.0 MB of archives.\n",
            "After this operation, 90.9 MB of additional disk space will be used.\n",
            "Get:1 http://archive.ubuntu.com/ubuntu bionic/main amd64 fonts-droid-fallback all 1:6.0.1r16-1.1 [1,805 kB]\n",
            "Get:2 http://archive.ubuntu.com/ubuntu bionic-updates/main amd64 imagemagick-6-common all 8:6.9.7.4+dfsg-16ubuntu6.7 [60.3 kB]\n",
            "Get:3 http://archive.ubuntu.com/ubuntu bionic-updates/main amd64 libmagickcore-6-arch-config amd64 8:6.9.7.4+dfsg-16ubuntu6.7 [25.3 kB]\n",
            "Get:4 http://archive.ubuntu.com/ubuntu bionic-updates/main amd64 libmagickcore-6-headers all 8:6.9.7.4+dfsg-16ubuntu6.7 [46.8 kB]\n",
            "Get:5 http://archive.ubuntu.com/ubuntu bionic/main amd64 liblqr-1-0 amd64 0.4.2-2.1 [27.7 kB]\n",
            "Get:6 http://archive.ubuntu.com/ubuntu bionic-updates/main amd64 libmagickcore-6.q16-3 amd64 8:6.9.7.4+dfsg-16ubuntu6.7 [1,615 kB]\n",
            "Get:7 http://archive.ubuntu.com/ubuntu bionic-updates/main amd64 libmagickwand-6-headers all 8:6.9.7.4+dfsg-16ubuntu6.7 [10.5 kB]\n",
            "Get:8 http://archive.ubuntu.com/ubuntu bionic-updates/main amd64 libmagickwand-6.q16-3 amd64 8:6.9.7.4+dfsg-16ubuntu6.7 [293 kB]\n",
            "Get:9 http://archive.ubuntu.com/ubuntu bionic/main amd64 libdjvulibre-text all 3.5.27.1-8 [49.1 kB]\n",
            "Get:10 http://archive.ubuntu.com/ubuntu bionic/main amd64 libdjvulibre21 amd64 3.5.27.1-8 [559 kB]\n",
            "Get:11 http://archive.ubuntu.com/ubuntu bionic/main amd64 libwmf0.2-7 amd64 0.2.8.4-12 [150 kB]\n",
            "Get:12 http://archive.ubuntu.com/ubuntu bionic-updates/main amd64 libmagickcore-6.q16-3-extra amd64 8:6.9.7.4+dfsg-16ubuntu6.7 [62.4 kB]\n",
            "Get:13 http://archive.ubuntu.com/ubuntu bionic/main amd64 libdjvulibre-dev amd64 3.5.27.1-8 [2,379 kB]\n",
            "Get:14 http://archive.ubuntu.com/ubuntu bionic-updates/main amd64 liblcms2-dev amd64 2.9-1ubuntu0.1 [9,096 kB]\n",
            "Get:15 http://archive.ubuntu.com/ubuntu bionic/main amd64 liblqr-1-0-dev amd64 0.4.2-2.1 [69.1 kB]\n",
            "Get:16 http://archive.ubuntu.com/ubuntu bionic/main amd64 gir1.2-freedesktop amd64 1.56.1-1 [9,080 B]\n",
            "Get:17 http://archive.ubuntu.com/ubuntu bionic/main amd64 gir1.2-gdkpixbuf-2.0 amd64 2.36.11-2 [7,748 B]\n",
            "Get:18 http://archive.ubuntu.com/ubuntu bionic/main amd64 gir1.2-rsvg-2.0 amd64 2.40.20-2 [3,756 B]\n",
            "Get:19 http://archive.ubuntu.com/ubuntu bionic/main amd64 libgdk-pixbuf2.0-dev amd64 2.36.11-2 [46.8 kB]\n",
            "Get:20 http://archive.ubuntu.com/ubuntu bionic-updates/main amd64 libcairo-script-interpreter2 amd64 1.15.10-2ubuntu0.1 [53.5 kB]\n",
            "Get:21 http://archive.ubuntu.com/ubuntu bionic/main amd64 libpixman-1-dev amd64 0.34.0-2 [244 kB]\n",
            "Get:22 http://archive.ubuntu.com/ubuntu bionic-updates/main amd64 libxcb-shm0-dev amd64 1.13-2~ubuntu18.04 [6,684 B]\n",
            "Get:23 http://archive.ubuntu.com/ubuntu bionic-updates/main amd64 libcairo2-dev amd64 1.15.10-2ubuntu0.1 [626 kB]\n",
            "Get:24 http://archive.ubuntu.com/ubuntu bionic/main amd64 librsvg2-dev amd64 2.40.20-2 [10.6 kB]\n",
            "Get:25 http://archive.ubuntu.com/ubuntu bionic/main amd64 libwmf-dev amd64 0.2.8.4-12 [172 kB]\n",
            "Get:26 http://archive.ubuntu.com/ubuntu bionic-updates/main amd64 libmagickcore-6.q16-dev amd64 8:6.9.7.4+dfsg-16ubuntu6.7 [970 kB]\n",
            "Get:27 http://archive.ubuntu.com/ubuntu bionic-updates/main amd64 libmagickwand-6.q16-dev amd64 8:6.9.7.4+dfsg-16ubuntu6.7 [291 kB]\n",
            "Get:28 http://archive.ubuntu.com/ubuntu bionic-updates/main amd64 libmagickwand-dev all 8:6.9.7.4+dfsg-16ubuntu6.7 [1,368 B]\n",
            "Get:29 http://archive.ubuntu.com/ubuntu bionic/main amd64 poppler-data all 0.4.8-2 [1,479 kB]\n",
            "Get:30 http://archive.ubuntu.com/ubuntu bionic/main amd64 fonts-noto-mono all 20171026-2 [75.5 kB]\n",
            "Get:31 http://archive.ubuntu.com/ubuntu bionic-updates/main amd64 libcupsimage2 amd64 2.2.7-1ubuntu2.7 [18.6 kB]\n",
            "Get:32 http://archive.ubuntu.com/ubuntu bionic/main amd64 libijs-0.35 amd64 0.35-13 [15.5 kB]\n",
            "Get:33 http://archive.ubuntu.com/ubuntu bionic/main amd64 libjbig2dec0 amd64 0.13-6 [55.9 kB]\n",
            "Get:34 http://archive.ubuntu.com/ubuntu bionic-updates/main amd64 libgs9-common all 9.26~dfsg+0-0ubuntu0.18.04.11 [5,092 kB]\n",
            "Get:35 http://archive.ubuntu.com/ubuntu bionic-updates/main amd64 libgs9 amd64 9.26~dfsg+0-0ubuntu0.18.04.11 [2,263 kB]\n",
            "Get:36 http://archive.ubuntu.com/ubuntu bionic-updates/main amd64 ghostscript amd64 9.26~dfsg+0-0ubuntu0.18.04.11 [51.0 kB]\n",
            "Get:37 http://archive.ubuntu.com/ubuntu bionic/main amd64 gsfonts all 1:8.11+urwcyr1.0.7~pre44-4.4 [3,120 kB]\n",
            "Get:38 http://archive.ubuntu.com/ubuntu bionic-updates/main amd64 libcupsfilters1 amd64 1.20.2-0ubuntu3.1 [108 kB]\n",
            "Fetched 31.0 MB in 28s (1,102 kB/s)\n",
            "Extracting templates from packages: 100%\n",
            "Selecting previously unselected package fonts-droid-fallback.\n",
            "(Reading database ... 132681 files and directories currently installed.)\n",
            "Preparing to unpack .../00-fonts-droid-fallback_1%3a6.0.1r16-1.1_all.deb ...\n",
            "Unpacking fonts-droid-fallback (1:6.0.1r16-1.1) ...\n",
            "Selecting previously unselected package imagemagick-6-common.\n",
            "Preparing to unpack .../01-imagemagick-6-common_8%3a6.9.7.4+dfsg-16ubuntu6.7_all.deb ...\n",
            "Unpacking imagemagick-6-common (8:6.9.7.4+dfsg-16ubuntu6.7) ...\n",
            "Selecting previously unselected package libmagickcore-6-arch-config:amd64.\n",
            "Preparing to unpack .../02-libmagickcore-6-arch-config_8%3a6.9.7.4+dfsg-16ubuntu6.7_amd64.deb ...\n",
            "Unpacking libmagickcore-6-arch-config:amd64 (8:6.9.7.4+dfsg-16ubuntu6.7) ...\n",
            "Selecting previously unselected package libmagickcore-6-headers.\n",
            "Preparing to unpack .../03-libmagickcore-6-headers_8%3a6.9.7.4+dfsg-16ubuntu6.7_all.deb ...\n",
            "Unpacking libmagickcore-6-headers (8:6.9.7.4+dfsg-16ubuntu6.7) ...\n",
            "Selecting previously unselected package liblqr-1-0:amd64.\n",
            "Preparing to unpack .../04-liblqr-1-0_0.4.2-2.1_amd64.deb ...\n",
            "Unpacking liblqr-1-0:amd64 (0.4.2-2.1) ...\n",
            "Selecting previously unselected package libmagickcore-6.q16-3:amd64.\n",
            "Preparing to unpack .../05-libmagickcore-6.q16-3_8%3a6.9.7.4+dfsg-16ubuntu6.7_amd64.deb ...\n",
            "Unpacking libmagickcore-6.q16-3:amd64 (8:6.9.7.4+dfsg-16ubuntu6.7) ...\n",
            "Selecting previously unselected package libmagickwand-6-headers.\n",
            "Preparing to unpack .../06-libmagickwand-6-headers_8%3a6.9.7.4+dfsg-16ubuntu6.7_all.deb ...\n",
            "Unpacking libmagickwand-6-headers (8:6.9.7.4+dfsg-16ubuntu6.7) ...\n",
            "Selecting previously unselected package libmagickwand-6.q16-3:amd64.\n",
            "Preparing to unpack .../07-libmagickwand-6.q16-3_8%3a6.9.7.4+dfsg-16ubuntu6.7_amd64.deb ...\n",
            "Unpacking libmagickwand-6.q16-3:amd64 (8:6.9.7.4+dfsg-16ubuntu6.7) ...\n",
            "Selecting previously unselected package libdjvulibre-text.\n",
            "Preparing to unpack .../08-libdjvulibre-text_3.5.27.1-8_all.deb ...\n",
            "Unpacking libdjvulibre-text (3.5.27.1-8) ...\n",
            "Selecting previously unselected package libdjvulibre21:amd64.\n",
            "Preparing to unpack .../09-libdjvulibre21_3.5.27.1-8_amd64.deb ...\n",
            "Unpacking libdjvulibre21:amd64 (3.5.27.1-8) ...\n",
            "Selecting previously unselected package libwmf0.2-7:amd64.\n",
            "Preparing to unpack .../10-libwmf0.2-7_0.2.8.4-12_amd64.deb ...\n",
            "Unpacking libwmf0.2-7:amd64 (0.2.8.4-12) ...\n",
            "Selecting previously unselected package libmagickcore-6.q16-3-extra:amd64.\n",
            "Preparing to unpack .../11-libmagickcore-6.q16-3-extra_8%3a6.9.7.4+dfsg-16ubuntu6.7_amd64.deb ...\n",
            "Unpacking libmagickcore-6.q16-3-extra:amd64 (8:6.9.7.4+dfsg-16ubuntu6.7) ...\n",
            "Selecting previously unselected package libdjvulibre-dev:amd64.\n",
            "Preparing to unpack .../12-libdjvulibre-dev_3.5.27.1-8_amd64.deb ...\n",
            "Unpacking libdjvulibre-dev:amd64 (3.5.27.1-8) ...\n",
            "Selecting previously unselected package liblcms2-dev:amd64.\n",
            "Preparing to unpack .../13-liblcms2-dev_2.9-1ubuntu0.1_amd64.deb ...\n",
            "Unpacking liblcms2-dev:amd64 (2.9-1ubuntu0.1) ...\n",
            "Selecting previously unselected package liblqr-1-0-dev:amd64.\n",
            "Preparing to unpack .../14-liblqr-1-0-dev_0.4.2-2.1_amd64.deb ...\n",
            "Unpacking liblqr-1-0-dev:amd64 (0.4.2-2.1) ...\n",
            "Selecting previously unselected package gir1.2-freedesktop:amd64.\n",
            "Preparing to unpack .../15-gir1.2-freedesktop_1.56.1-1_amd64.deb ...\n",
            "Unpacking gir1.2-freedesktop:amd64 (1.56.1-1) ...\n",
            "Selecting previously unselected package gir1.2-gdkpixbuf-2.0:amd64.\n",
            "Preparing to unpack .../16-gir1.2-gdkpixbuf-2.0_2.36.11-2_amd64.deb ...\n",
            "Unpacking gir1.2-gdkpixbuf-2.0:amd64 (2.36.11-2) ...\n",
            "Selecting previously unselected package gir1.2-rsvg-2.0:amd64.\n",
            "Preparing to unpack .../17-gir1.2-rsvg-2.0_2.40.20-2_amd64.deb ...\n",
            "Unpacking gir1.2-rsvg-2.0:amd64 (2.40.20-2) ...\n",
            "Selecting previously unselected package libgdk-pixbuf2.0-dev.\n",
            "Preparing to unpack .../18-libgdk-pixbuf2.0-dev_2.36.11-2_amd64.deb ...\n",
            "Unpacking libgdk-pixbuf2.0-dev (2.36.11-2) ...\n",
            "Selecting previously unselected package libcairo-script-interpreter2:amd64.\n",
            "Preparing to unpack .../19-libcairo-script-interpreter2_1.15.10-2ubuntu0.1_amd64.deb ...\n",
            "Unpacking libcairo-script-interpreter2:amd64 (1.15.10-2ubuntu0.1) ...\n",
            "Selecting previously unselected package libpixman-1-dev:amd64.\n",
            "Preparing to unpack .../20-libpixman-1-dev_0.34.0-2_amd64.deb ...\n",
            "Unpacking libpixman-1-dev:amd64 (0.34.0-2) ...\n",
            "Selecting previously unselected package libxcb-shm0-dev:amd64.\n",
            "Preparing to unpack .../21-libxcb-shm0-dev_1.13-2~ubuntu18.04_amd64.deb ...\n",
            "Unpacking libxcb-shm0-dev:amd64 (1.13-2~ubuntu18.04) ...\n",
            "Selecting previously unselected package libcairo2-dev:amd64.\n",
            "Preparing to unpack .../22-libcairo2-dev_1.15.10-2ubuntu0.1_amd64.deb ...\n",
            "Unpacking libcairo2-dev:amd64 (1.15.10-2ubuntu0.1) ...\n",
            "Selecting previously unselected package librsvg2-dev:amd64.\n",
            "Preparing to unpack .../23-librsvg2-dev_2.40.20-2_amd64.deb ...\n",
            "Unpacking librsvg2-dev:amd64 (2.40.20-2) ...\n",
            "Selecting previously unselected package libwmf-dev.\n",
            "Preparing to unpack .../24-libwmf-dev_0.2.8.4-12_amd64.deb ...\n",
            "Unpacking libwmf-dev (0.2.8.4-12) ...\n",
            "Selecting previously unselected package libmagickcore-6.q16-dev:amd64.\n",
            "Preparing to unpack .../25-libmagickcore-6.q16-dev_8%3a6.9.7.4+dfsg-16ubuntu6.7_amd64.deb ...\n",
            "Unpacking libmagickcore-6.q16-dev:amd64 (8:6.9.7.4+dfsg-16ubuntu6.7) ...\n",
            "Selecting previously unselected package libmagickwand-6.q16-dev:amd64.\n",
            "Preparing to unpack .../26-libmagickwand-6.q16-dev_8%3a6.9.7.4+dfsg-16ubuntu6.7_amd64.deb ...\n",
            "Unpacking libmagickwand-6.q16-dev:amd64 (8:6.9.7.4+dfsg-16ubuntu6.7) ...\n",
            "Selecting previously unselected package libmagickwand-dev.\n",
            "Preparing to unpack .../27-libmagickwand-dev_8%3a6.9.7.4+dfsg-16ubuntu6.7_all.deb ...\n",
            "Unpacking libmagickwand-dev (8:6.9.7.4+dfsg-16ubuntu6.7) ...\n",
            "Selecting previously unselected package poppler-data.\n",
            "Preparing to unpack .../28-poppler-data_0.4.8-2_all.deb ...\n",
            "Unpacking poppler-data (0.4.8-2) ...\n",
            "Selecting previously unselected package fonts-noto-mono.\n",
            "Preparing to unpack .../29-fonts-noto-mono_20171026-2_all.deb ...\n",
            "Unpacking fonts-noto-mono (20171026-2) ...\n",
            "Selecting previously unselected package libcupsimage2:amd64.\n",
            "Preparing to unpack .../30-libcupsimage2_2.2.7-1ubuntu2.7_amd64.deb ...\n",
            "Unpacking libcupsimage2:amd64 (2.2.7-1ubuntu2.7) ...\n",
            "Selecting previously unselected package libijs-0.35:amd64.\n",
            "Preparing to unpack .../31-libijs-0.35_0.35-13_amd64.deb ...\n",
            "Unpacking libijs-0.35:amd64 (0.35-13) ...\n",
            "Selecting previously unselected package libjbig2dec0:amd64.\n",
            "Preparing to unpack .../32-libjbig2dec0_0.13-6_amd64.deb ...\n",
            "Unpacking libjbig2dec0:amd64 (0.13-6) ...\n",
            "Selecting previously unselected package libgs9-common.\n",
            "Preparing to unpack .../33-libgs9-common_9.26~dfsg+0-0ubuntu0.18.04.11_all.deb ...\n",
            "Unpacking libgs9-common (9.26~dfsg+0-0ubuntu0.18.04.11) ...\n",
            "Selecting previously unselected package libgs9:amd64.\n",
            "Preparing to unpack .../34-libgs9_9.26~dfsg+0-0ubuntu0.18.04.11_amd64.deb ...\n",
            "Unpacking libgs9:amd64 (9.26~dfsg+0-0ubuntu0.18.04.11) ...\n",
            "Selecting previously unselected package ghostscript.\n",
            "Preparing to unpack .../35-ghostscript_9.26~dfsg+0-0ubuntu0.18.04.11_amd64.deb ...\n",
            "Unpacking ghostscript (9.26~dfsg+0-0ubuntu0.18.04.11) ...\n",
            "Selecting previously unselected package gsfonts.\n",
            "Preparing to unpack .../36-gsfonts_1%3a8.11+urwcyr1.0.7~pre44-4.4_all.deb ...\n",
            "Unpacking gsfonts (1:8.11+urwcyr1.0.7~pre44-4.4) ...\n",
            "Selecting previously unselected package libcupsfilters1:amd64.\n",
            "Preparing to unpack .../37-libcupsfilters1_1.20.2-0ubuntu3.1_amd64.deb ...\n",
            "Unpacking libcupsfilters1:amd64 (1.20.2-0ubuntu3.1) ...\n",
            "Setting up libgs9-common (9.26~dfsg+0-0ubuntu0.18.04.11) ...\n",
            "Setting up imagemagick-6-common (8:6.9.7.4+dfsg-16ubuntu6.7) ...\n",
            "Setting up fonts-droid-fallback (1:6.0.1r16-1.1) ...\n",
            "Setting up liblcms2-dev:amd64 (2.9-1ubuntu0.1) ...\n",
            "Setting up gsfonts (1:8.11+urwcyr1.0.7~pre44-4.4) ...\n",
            "Setting up libcairo-script-interpreter2:amd64 (1.15.10-2ubuntu0.1) ...\n",
            "Setting up poppler-data (0.4.8-2) ...\n",
            "Setting up libdjvulibre-text (3.5.27.1-8) ...\n",
            "Setting up gir1.2-freedesktop:amd64 (1.56.1-1) ...\n",
            "Setting up libxcb-shm0-dev:amd64 (1.13-2~ubuntu18.04) ...\n",
            "Setting up libmagickcore-6-arch-config:amd64 (8:6.9.7.4+dfsg-16ubuntu6.7) ...\n",
            "Setting up gir1.2-gdkpixbuf-2.0:amd64 (2.36.11-2) ...\n",
            "Setting up fonts-noto-mono (20171026-2) ...\n",
            "Setting up libcupsfilters1:amd64 (1.20.2-0ubuntu3.1) ...\n",
            "Setting up libcupsimage2:amd64 (2.2.7-1ubuntu2.7) ...\n",
            "Setting up liblqr-1-0:amd64 (0.4.2-2.1) ...\n",
            "Setting up libjbig2dec0:amd64 (0.13-6) ...\n",
            "Setting up libgdk-pixbuf2.0-dev (2.36.11-2) ...\n",
            "Processing triggers for libc-bin (2.27-3ubuntu1) ...\n",
            "Setting up libpixman-1-dev:amd64 (0.34.0-2) ...\n",
            "Setting up gir1.2-rsvg-2.0:amd64 (2.40.20-2) ...\n",
            "Setting up libijs-0.35:amd64 (0.35-13) ...\n",
            "Setting up libmagickcore-6-headers (8:6.9.7.4+dfsg-16ubuntu6.7) ...\n",
            "Processing triggers for man-db (2.8.3-2ubuntu0.1) ...\n",
            "Setting up libgs9:amd64 (9.26~dfsg+0-0ubuntu0.18.04.11) ...\n",
            "Setting up libwmf0.2-7:amd64 (0.2.8.4-12) ...\n",
            "Processing triggers for fontconfig (2.12.6-0ubuntu2) ...\n",
            "Setting up libwmf-dev (0.2.8.4-12) ...\n",
            "Setting up libmagickcore-6.q16-3:amd64 (8:6.9.7.4+dfsg-16ubuntu6.7) ...\n",
            "Setting up liblqr-1-0-dev:amd64 (0.4.2-2.1) ...\n",
            "Setting up libcairo2-dev:amd64 (1.15.10-2ubuntu0.1) ...\n",
            "Setting up libdjvulibre21:amd64 (3.5.27.1-8) ...\n",
            "Setting up libmagickwand-6-headers (8:6.9.7.4+dfsg-16ubuntu6.7) ...\n",
            "Setting up libdjvulibre-dev:amd64 (3.5.27.1-8) ...\n",
            "Setting up librsvg2-dev:amd64 (2.40.20-2) ...\n",
            "Setting up ghostscript (9.26~dfsg+0-0ubuntu0.18.04.11) ...\n",
            "Setting up libmagickwand-6.q16-3:amd64 (8:6.9.7.4+dfsg-16ubuntu6.7) ...\n",
            "Setting up libmagickcore-6.q16-3-extra:amd64 (8:6.9.7.4+dfsg-16ubuntu6.7) ...\n",
            "Setting up libmagickcore-6.q16-dev:amd64 (8:6.9.7.4+dfsg-16ubuntu6.7) ...\n",
            "Setting up libmagickwand-6.q16-dev:amd64 (8:6.9.7.4+dfsg-16ubuntu6.7) ...\n",
            "Setting up libmagickwand-dev (8:6.9.7.4+dfsg-16ubuntu6.7) ...\n",
            "Processing triggers for libc-bin (2.27-3ubuntu1) ...\n"
          ],
          "name": "stdout"
        }
      ]
    },
    {
      "cell_type": "code",
      "metadata": {
        "id": "vzYH_GPhjhFF",
        "colab_type": "code",
        "colab": {}
      },
      "source": [
        "############################################# Change Cache And Permission Policies For ImageMagick #######################################\n",
        "!sed -i 's/none/read|write/g' /etc/ImageMagick-6/policy.xml\n",
        "!sed -i 's/256MiB/2GiB/g' /etc/ImageMagick-6/policy.xml"
      ],
      "execution_count": 0,
      "outputs": []
    },
    {
      "cell_type": "code",
      "metadata": {
        "id": "Z5pMU4F3nYgf",
        "colab_type": "code",
        "colab": {}
      },
      "source": [
        "####################################### Reboot Runtime To Reflect The Above Policy File Changes ############################################\n",
        "import os\n",
        "os.kill(os.getpid(), 9)\n",
        "######################################### Runtime Rebooted Now Run All Cells After this cell ################################################"
      ],
      "execution_count": 0,
      "outputs": []
    },
    {
      "cell_type": "code",
      "metadata": {
        "id": "zfaK4x9YaigB",
        "colab_type": "code",
        "colab": {}
      },
      "source": [
        "################################################# Define Constants #####################################################\n",
        "InputFileName='samplefile.pdf'\n",
        "InputFilePath='/content/gdrive/My Drive/PdfImagePath/OriginalPDF/'\n",
        "InputFileFullPath=InputFilePath+InputFileName\n",
        "\n",
        "ExtractedImagesDirectory='/content/gdrive/My Drive/PdfImagePath/Shrinked/'\n",
        "\n",
        "FinalPDFDirectory='/content/gdrive/My Drive/PdfImagePath/FinalPDF/'\n",
        "CompressedPDFName='CompressedPDF.pdf'\n",
        "FinalPDFFullPath=FinalPDFDirectory+CompressedPDFName\n"
      ],
      "execution_count": 0,
      "outputs": []
    },
    {
      "cell_type": "code",
      "metadata": {
        "id": "awi3s7ODdTrr",
        "colab_type": "code",
        "outputId": "48742b20-85e5-46df-aac7-bd8db3c17573",
        "colab": {
          "base_uri": "https://localhost:8080/",
          "height": 54
        }
      },
      "source": [
        "########################################## Count Number Of Pages In Original PDF #########################################\n",
        "import fitz\n",
        "doc = fitz.open(InputFileFullPath) \n",
        "Num_Of_Pages_In_Original_Document=doc.pageCount\n",
        "print(\"Number Of Pages In Original Document: \"+str(Num_Of_Pages_In_Original_Document))"
      ],
      "execution_count": 0,
      "outputs": [
        {
          "output_type": "stream",
          "text": [
            "Number Of Pages In Original Document: 32\n"
          ],
          "name": "stdout"
        }
      ]
    },
    {
      "cell_type": "code",
      "metadata": {
        "id": "-jUdzIaheRdG",
        "colab_type": "code",
        "outputId": "6190ff24-bab0-4d3b-e9b6-058679e262e1",
        "colab": {
          "base_uri": "https://localhost:8080/",
          "height": 54
        }
      },
      "source": [
        "#################################### Size Of Original Document ################################################\n",
        "import os\n",
        "statinfo = os.stat(InputFileFullPath)\n",
        "SizeInMBOriginalDocument=statinfo.st_size/1e+6\n",
        "print(\"Size Of Original PDF: \"+str(SizeInMBOriginalDocument)+\" MB \")"
      ],
      "execution_count": 0,
      "outputs": [
        {
          "output_type": "stream",
          "text": [
            "Size Of Original PDF: 3.435045 MB \n"
          ],
          "name": "stdout"
        }
      ]
    },
    {
      "cell_type": "code",
      "metadata": {
        "id": "VdiCg0zlf3QH",
        "colab_type": "code",
        "colab": {}
      },
      "source": [
        "############################### Convert PDF Pages To PNG ####################################################\n",
        "from wand.image import Image\n",
        "from wand.color import Color\n",
        "ImagePaths=[]\n",
        "all_pages = Image(filename=InputFileFullPath)\n",
        "for i, page in enumerate(all_pages.sequence):\n",
        "  with Image(page) as img:\n",
        "    img.format = 'png'\n",
        "    img.background_color = Color('white')\n",
        "    img.alpha_channel = 'remove'\n",
        "    img.compression_quality = 90\n",
        "    shrinked_image_name='Image-'+str(i+1)+\".png\"\n",
        "    shrinked_image_full_path=ExtractedImagesDirectory+shrinked_image_name\n",
        "    ImagePaths.append(shrinked_image_full_path)\n",
        "    img.save(filename=shrinked_image_full_path)"
      ],
      "execution_count": 0,
      "outputs": []
    },
    {
      "cell_type": "code",
      "metadata": {
        "id": "0FIIxM0TCFTm",
        "colab_type": "code",
        "colab": {}
      },
      "source": [
        "####################################################### Create New PDF Document Containing New Compressed Images #######################################################\n",
        "CompressedDocument=fitz.open()\n",
        "for image in ImagePaths:\n",
        "  imgdoc=fitz.open(image)\n",
        "  pdfbytes=imgdoc.convertToPDF()\n",
        "  imgpdf=fitz.open(\"pdf\", pdfbytes)\n",
        "  CompressedDocument.insertPDF(imgpdf)\n",
        "CompressedDocument.save(FinalPDFDirectory+CompressedPDFName)\n",
        "os.chdir(ExtractedImagesDirectory)\n",
        "! rm *"
      ],
      "execution_count": 0,
      "outputs": []
    },
    {
      "cell_type": "code",
      "metadata": {
        "id": "PGJouCelJAX5",
        "colab_type": "code",
        "outputId": "31a7ce40-0e87-4684-e83c-030f04b7c060",
        "colab": {
          "base_uri": "https://localhost:8080/",
          "height": 54
        }
      },
      "source": [
        "#################################### Size Of Final Document ################################################\n",
        "statinfo = os.stat(FinalPDFFullPath)\n",
        "SizeInMBCompressedDocument=statinfo.st_size/1e+6\n",
        "print(\"Size Of Compressed PDF: \"+str(SizeInMBCompressedDocument)+\" MB \")"
      ],
      "execution_count": 0,
      "outputs": [
        {
          "output_type": "stream",
          "text": [
            "Size Of Compressed PDF: 1.957331 MB \n"
          ],
          "name": "stdout"
        }
      ]
    },
    {
      "cell_type": "code",
      "metadata": {
        "id": "0DEgHigOPUXS",
        "colab_type": "code",
        "outputId": "bb223e8f-258a-4c96-cf0b-995a9a5e524c",
        "colab": {
          "base_uri": "https://localhost:8080/",
          "height": 34
        }
      },
      "source": [
        "################################## Compression Ratio #####################################################\n",
        "Ratio=((SizeInMBOriginalDocument-SizeInMBCompressedDocument)/SizeInMBOriginalDocument)*100\n",
        "print(\"Document Compressed by \"+str(int(Ratio))+\"% !!\")"
      ],
      "execution_count": 0,
      "outputs": [
        {
          "output_type": "stream",
          "text": [
            "Document Compressed by 43% !!\n"
          ],
          "name": "stdout"
        }
      ]
    }
  ]
}